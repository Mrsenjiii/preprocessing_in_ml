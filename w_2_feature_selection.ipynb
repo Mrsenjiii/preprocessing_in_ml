{
  "nbformat": 4,
  "nbformat_minor": 0,
  "metadata": {
    "colab": {
      "provenance": [],
      "authorship_tag": "ABX9TyObr7g1lbyZFuGudesrRb60",
      "include_colab_link": true
    },
    "kernelspec": {
      "name": "python3",
      "display_name": "Python 3"
    },
    "language_info": {
      "name": "python"
    }
  },
  "cells": [
    {
      "cell_type": "markdown",
      "metadata": {
        "id": "view-in-github",
        "colab_type": "text"
      },
      "source": [
        "<a href=\"https://colab.research.google.com/github/Mrsenjiii/preprocessing_in_ml/blob/main/w_2_feature_selection.ipynb\" target=\"_parent\"><img src=\"https://colab.research.google.com/assets/colab-badge.svg\" alt=\"Open In Colab\"/></a>"
      ]
    },
    {
      "cell_type": "markdown",
      "source": [
        "#Feature Selection."
      ],
      "metadata": {
        "id": "9UlXz6MqZd4D"
      }
    },
    {
      "cell_type": "code",
      "execution_count": null,
      "metadata": {
        "id": "dIOl-f2OX8Vp"
      },
      "outputs": [],
      "source": [
        "from sklearn.feature_selection import VarianceThreshold"
      ]
    },
    {
      "cell_type": "code",
      "source": [
        "dir(sklearn.feature_selection)"
      ],
      "metadata": {
        "colab": {
          "base_uri": "https://localhost:8080/"
        },
        "id": "D7fZmRf3YUOU",
        "outputId": "d9b02875-750a-46c6-b4c4-314cab34f3a6"
      },
      "execution_count": null,
      "outputs": [
        {
          "output_type": "execute_result",
          "data": {
            "text/plain": [
              "['GenericUnivariateSelect',\n",
              " 'RFE',\n",
              " 'RFECV',\n",
              " 'SelectFdr',\n",
              " 'SelectFpr',\n",
              " 'SelectFromModel',\n",
              " 'SelectFwe',\n",
              " 'SelectKBest',\n",
              " 'SelectPercentile',\n",
              " 'SelectorMixin',\n",
              " 'SequentialFeatureSelector',\n",
              " 'VarianceThreshold',\n",
              " '__all__',\n",
              " '__builtins__',\n",
              " '__cached__',\n",
              " '__doc__',\n",
              " '__file__',\n",
              " '__loader__',\n",
              " '__name__',\n",
              " '__package__',\n",
              " '__path__',\n",
              " '__spec__',\n",
              " '_base',\n",
              " '_from_model',\n",
              " '_mutual_info',\n",
              " '_rfe',\n",
              " '_sequential',\n",
              " '_univariate_selection',\n",
              " '_variance_threshold',\n",
              " 'chi2',\n",
              " 'f_classif',\n",
              " 'f_oneway',\n",
              " 'f_regression',\n",
              " 'mutual_info_classif',\n",
              " 'mutual_info_regression',\n",
              " 'r_regression']"
            ]
          },
          "metadata": {},
          "execution_count": 34
        }
      ]
    },
    {
      "cell_type": "markdown",
      "source": [
        "#Variance Threshhold"
      ],
      "metadata": {
        "id": "mjdLbiW8ZybA"
      }
    },
    {
      "cell_type": "code",
      "source": [
        "from sklearn.feature_selection import VarianceThreshold\n",
        "X = [[0, 2, 0, 3]\n",
        "     , [0, 1, 4, 3]\n",
        "     , [0, 1, 1, 3]]\n",
        "\n",
        "\n",
        "Y = [[0,3,3,2],[0,1,2,2]]\n",
        "selector = VarianceThreshold()\n",
        "selector.fit(X)\n",
        "X_new  = selector.transform(X)\n",
        "print(X_new)\n",
        "# selector.variances_\n",
        "# selector.get_feature_names_out(['x','y','z','o'])\n",
        "# selector.get_params()\n",
        "# selector.get_support(indices=True)\n",
        "# selector.set_output(transform='pandas') # nahi aaya samjh me.\n",
        "# z = selector.transform(Y)\n",
        "# z"
      ],
      "metadata": {
        "id": "7wYtDLaVYURV"
      },
      "execution_count": null,
      "outputs": []
    },
    {
      "cell_type": "code",
      "source": [
        "dir(VarianceThreshold)"
      ],
      "metadata": {
        "id": "ncgXAJ84YUT1"
      },
      "execution_count": null,
      "outputs": []
    },
    {
      "cell_type": "code",
      "source": [
        "from sklearn.feature_selection import SelectKBest\n",
        "from sklearn.feature_selection import f_classif\n",
        "\n",
        "# These are valid ways to create a SelectKBest object:\n",
        "\n",
        "# Using both score_func and k as keyword arguments\n",
        "# selector = SelectKBest(score_func=f_classif, k=5)\n",
        "\n",
        "# Using score_func as a keyword argument and k as a positional argument\n",
        "# selector = SelectKBest(f_classif, 5)\n",
        "\n",
        "# Using score_func as a keyword argument and specifying k using its name\n",
        "selector = SelectKBest(score_func=f_classif, k=10)"
      ],
      "metadata": {
        "id": "qmNQL60RYUZj"
      },
      "execution_count": null,
      "outputs": []
    },
    {
      "cell_type": "code",
      "source": [],
      "metadata": {
        "id": "fBy2XNP8YUcN"
      },
      "execution_count": null,
      "outputs": []
    },
    {
      "cell_type": "code",
      "source": [],
      "metadata": {
        "id": "XreA-bbup4nl"
      },
      "execution_count": null,
      "outputs": []
    },
    {
      "cell_type": "code",
      "source": [],
      "metadata": {
        "id": "SFGTWIFPYUfA"
      },
      "execution_count": null,
      "outputs": []
    },
    {
      "cell_type": "code",
      "source": [],
      "metadata": {
        "id": "p3o7Bn1MYUhi"
      },
      "execution_count": null,
      "outputs": []
    },
    {
      "cell_type": "code",
      "source": [],
      "metadata": {
        "id": "q63wThPYYUkk"
      },
      "execution_count": null,
      "outputs": []
    },
    {
      "cell_type": "code",
      "source": [],
      "metadata": {
        "id": "y_VYzQpNYUvk"
      },
      "execution_count": null,
      "outputs": []
    }
  ]
}